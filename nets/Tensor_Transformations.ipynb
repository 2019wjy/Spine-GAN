{
 "cells": [
  {
   "cell_type": "code",
   "execution_count": 3,
   "metadata": {
    "collapsed": true,
    "deletable": true,
    "editable": true
   },
   "outputs": [],
   "source": [
    "import tensorflow as tf\n",
    "import numpy as np"
   ]
  },
  {
   "cell_type": "code",
   "execution_count": 26,
   "metadata": {
    "collapsed": false,
    "deletable": true,
    "editable": true
   },
   "outputs": [
    {
     "name": "stdout",
     "output_type": "stream",
     "text": [
      "[[[5 5 5 5]\n",
      "  [6 6 6 6]\n",
      "  [7 7 7 7]\n",
      "  [8 8 8 8]]\n",
      "\n",
      " [[0 0 0 0]\n",
      "  [0 0 0 0]\n",
      "  [0 0 0 0]\n",
      "  [0 0 0 0]]\n",
      "\n",
      " [[5 5 5 5]\n",
      "  [6 6 6 6]\n",
      "  [7 7 7 7]\n",
      "  [8 8 8 8]]\n",
      "\n",
      " [[0 0 0 0]\n",
      "  [0 0 0 0]\n",
      "  [0 0 0 0]\n",
      "  [0 0 0 0]]]\n"
     ]
    }
   ],
   "source": [
    "    indices = tf.constant([[0], [2]])\n",
    "    updates = tf.constant([[[5, 5, 5, 5], [6, 6, 6, 6],\n",
    "                            [7, 7, 7, 7], [8, 8, 8, 8]],\n",
    "                           [[5, 5, 5, 5], [6, 6, 6, 6],\n",
    "                            [7, 7, 7, 7], [8, 8, 8, 8]]])\n",
    "    shape = tf.constant([4, 4, 4])\n",
    "    scatter = tf.scatter_nd(indices, updates, shape)\n",
    "    with tf.Session() as sess:\n",
    "      print(sess.run(scatter))"
   ]
  },
  {
   "cell_type": "code",
   "execution_count": 21,
   "metadata": {
    "collapsed": false,
    "deletable": true,
    "editable": true
   },
   "outputs": [
    {
     "name": "stdout",
     "output_type": "stream",
     "text": [
      "[ 1 13  3 14 14  6  7 20]\n"
     ]
    }
   ],
   "source": [
    "ref = tf.Variable([1, 2, 3, 4, 5, 6, 7, 8])\n",
    "indices = tf.constant([[4], [3], [1], [7]])\n",
    "updates = tf.constant([9, 10, 11, 12])\n",
    "add = tf.scatter_nd_add(ref, indices, updates)\n",
    "with tf.Session() as sess:\n",
    "    sess.run(tf.global_variables_initializer())\n",
    "    print sess.run(add)\n",
    "    "
   ]
  },
  {
   "cell_type": "code",
   "execution_count": 35,
   "metadata": {
    "collapsed": false,
    "deletable": true,
    "editable": true,
    "scrolled": true
   },
   "outputs": [
    {
     "name": "stdout",
     "output_type": "stream",
     "text": [
      "0.464565566922\n"
     ]
    }
   ],
   "source": [
    "np_matrix = np.random.rand(1,64,64,1)\n",
    "#print matrix\n",
    "#print range(8)\n",
    "tf_tensors = tf.convert_to_tensor(np_matrix)\n",
    "#for i in range(64):\n",
    "tf_tensor = tf.gather_nd(tf_tensors, (0,8,56,0))\n",
    "with tf.Session() as sess:\n",
    "        vector = sess.run(tf_tensor)\n",
    "        print vector"
   ]
  },
  {
   "cell_type": "code",
   "execution_count": 30,
   "metadata": {
    "collapsed": false,
    "deletable": true,
    "editable": true,
    "scrolled": false
   },
   "outputs": [
    {
     "name": "stdout",
     "output_type": "stream",
     "text": [
      "4096\n"
     ]
    }
   ],
   "source": [
    "z = tf.convert_to_tensor(np.random.rand(8,64,64,2))\n",
    "y = tf.convert_to_tensor(np.random.rand(1,64,64,1))\n",
    "s = tf.size(y)\n",
    "with tf.control_dependencies([tf.equal(z, 1)]):\n",
    "    output = z\n",
    "#while tf.equal(z,2):\n",
    "    #x = z\n",
    "with tf.Session() as sess:\n",
    "    out,size = sess.run([output,s])\n",
    "    print size"
   ]
  },
  {
   "cell_type": "code",
   "execution_count": 11,
   "metadata": {
    "collapsed": false,
    "deletable": true,
    "editable": true,
    "scrolled": true
   },
   "outputs": [
    {
     "name": "stdout",
     "output_type": "stream",
     "text": [
      "2\n"
     ]
    }
   ],
   "source": [
    "\n",
    "with tf.Session() as sess:\n",
    "    z = sess.run(tf.range(8))\n",
    "    print z[2]\n"
   ]
  },
  {
   "cell_type": "code",
   "execution_count": 18,
   "metadata": {
    "collapsed": false,
    "deletable": true,
    "editable": true
   },
   "outputs": [
    {
     "name": "stdout",
     "output_type": "stream",
     "text": [
      "4096\n"
     ]
    }
   ],
   "source": [
    "print 64*64"
   ]
  },
  {
   "cell_type": "code",
   "execution_count": 3,
   "metadata": {
    "collapsed": false,
    "deletable": true,
    "editable": true
   },
   "outputs": [
    {
     "name": "stdout",
     "output_type": "stream",
     "text": [
      "4\n",
      "8\n",
      "12\n",
      "16\n",
      "20\n",
      "24\n",
      "28\n",
      "32\n",
      "36\n",
      "40\n",
      "44\n",
      "48\n",
      "52\n",
      "56\n",
      "14\n"
     ]
    }
   ],
   "source": [
    "for i in range(4,64-4,4):\n",
    "    print i\n",
    "print len(range(4,64-4,4))"
   ]
  },
  {
   "cell_type": "code",
   "execution_count": 9,
   "metadata": {
    "collapsed": false,
    "deletable": true,
    "editable": true
   },
   "outputs": [
    {
     "name": "stdout",
     "output_type": "stream",
     "text": [
      "0.5\n"
     ]
    }
   ],
   "source": [
    "i = tf_tensors = tf.convert_to_tensor(np.array([2,3,4,6]))\n",
    "j = tf.convert_to_tensor(np.array([1,2,3,4]))\n",
    "h= tf.reduce_sum(tf.square(tf.subtract(i, j)))\n",
    "i=1.0\n",
    "j=2\n",
    "h= tf.div(i, j)\n",
    "#h= i+j\n",
    "with tf.Session() as sess:\n",
    "    z = sess.run(h)\n",
    "    print z"
   ]
  },
  {
   "cell_type": "code",
   "execution_count": 1,
   "metadata": {
    "collapsed": false,
    "deletable": true,
    "editable": true
   },
   "outputs": [
    {
     "name": "stdout",
     "output_type": "stream",
     "text": [
      "100\n",
      "164\n",
      "228\n",
      "292\n",
      "356\n",
      "420\n"
     ]
    }
   ],
   "source": [
    "for y in range(100,450,64):\n",
    "    print y\n",
    "    "
   ]
  }
 ],
 "metadata": {
  "kernelspec": {
   "display_name": "Python 2",
   "language": "python",
   "name": "python2"
  },
  "language_info": {
   "codemirror_mode": {
    "name": "ipython",
    "version": 2
   },
   "file_extension": ".py",
   "mimetype": "text/x-python",
   "name": "python",
   "nbconvert_exporter": "python",
   "pygments_lexer": "ipython2",
   "version": "2.7.12"
  }
 },
 "nbformat": 4,
 "nbformat_minor": 2
}
